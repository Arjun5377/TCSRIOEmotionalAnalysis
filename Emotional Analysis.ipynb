{
 "cells": [
  {
   "cell_type": "code",
   "execution_count": 1,
   "metadata": {},
   "outputs": [],
   "source": [
    "import string\n",
    "text = open('matter.txt').read()\n",
    "\n",
    "from nltk.tokenize import word_tokenize\n",
    "from nltk.corpus import stopwords\n",
    "import matplotlib.pyplot as plt\n",
    "from collections import Counter\n",
    "from nltk.stem import LancasterStemmer\n",
    "lst= LancasterStemmer()\n",
    "from nltk.sentiment.vader import SentimentIntensityAnalyzer\n",
    "\n"
   ]
  },
  {
   "cell_type": "code",
   "execution_count": 2,
   "metadata": {},
   "outputs": [],
   "source": [
    "# Taking words and respective emotions from emotions.txt file and storing in seperate lists\n",
    "\n",
    "emotions = open('emotions.txt',encoding='utf-8').read()\n",
    "sample = emotions.replace('\\n', '')\n",
    "sample1 = sample.split(',')\n",
    "sample2 = []\n",
    "for line in sample1:\n",
    "    sample2.append(line.strip())\n",
    "\n",
    "sample3 = []\n",
    "for line in sample2:\n",
    "    sample3.append(line.split(':'))\n",
    "\n",
    "sample4 = []\n",
    "for line1 in sample3:\n",
    "    for line in line1:\n",
    "        sample4.append(line.strip())\n",
    "\n",
    "sample5 = []\n",
    "for word in sample4:\n",
    "    sample5.append(word.replace(\"'\", \"\"))\n",
    "\n",
    "words_list = []\n",
    "emotions_list = []\n",
    "i = 0\n",
    "for word in sample5:\n",
    "    if i == 0:\n",
    "        words_list.append(word)\n",
    "        i = 1\n",
    "    elif i == 1:\n",
    "        emotions_list.append(word)\n",
    "        i = 0\n",
    "     \n",
    "        \n",
    "     \n"
   ]
  },
  {
   "cell_type": "code",
   "execution_count": 3,
   "metadata": {},
   "outputs": [],
   "source": [
    "stemmed_words_list=[]\n",
    "for words in words_list:\n",
    "    stemmed_words_list.append(lst.stem(words))\n"
   ]
  },
  {
   "cell_type": "code",
   "execution_count": 4,
   "metadata": {},
   "outputs": [],
   "source": [
    "i=0\n",
    "sarcasm= []\n",
    "oppemo = []\n",
    "sent1 = open(\"oppemo.txt\",encoding=\"utf-8\").read()\n",
    "sent2 = sent1.split('\\n')\n",
    "for word in sent2 :\n",
    "    if i==0 :\n",
    "        i=1\n",
    "        sarcasm.append(word)\n",
    "    elif i==1 :\n",
    "        i=0\n",
    "        oppemo.append(word)"
   ]
  },
  {
   "cell_type": "code",
   "execution_count": 5,
   "metadata": {},
   "outputs": [],
   "source": [
    "from nltk.tokenize import sent_tokenize\n",
    "\n",
    "lower_sen = text.lower()\n",
    "sents= sent_tokenize(lower_sen)\n",
    "\n",
    "count=0\n",
    "\n",
    "divi1 = ''\n",
    "divi2 = ''\n",
    "final_sen = ''\n",
    "for sent in sents :\n",
    "    toke = word_tokenize(sent)\n",
    "    for i in range (0,int(len(toke)/2)) :\n",
    "        divi1 += toke[i]\n",
    "        divi1 += ' '\n",
    "    for i in range (int(len(toke)/2),int(len(toke))) :\n",
    "        divi2 += toke[i]\n",
    "        divi2 += ' '\n",
    "    sen_divi1 = SentimentIntensityAnalyzer().polarity_scores(divi1)\n",
    "    sen_divi2 = SentimentIntensityAnalyzer().polarity_scores(divi2)\n",
    "    if sen_divi1['compound']>sen_divi2['compound'] and sen_divi2['compound']!=0 :\n",
    "        tokes = word_tokenize(divi1)\n",
    "        for tok in tokes :\n",
    "            if SentimentIntensityAnalyzer().polarity_scores(tok) ['pos']==1 :\n",
    "                if lst.stem(tok) in stemmed_words_list :\n",
    "                    emotion = emotions_list[stemmed_words_list.index(lst.stem(tok))]\n",
    "                    final_sen += oppemo[sarcasm.index(emotion)]\n",
    "                    final_sen += ' '\n",
    "                else :\n",
    "                    final_sen += tok\n",
    "                    final_sen += ' '\n",
    "            else :\n",
    "                final_sen += tok\n",
    "                final_sen += ' '\n",
    "        final_sen += divi2\n",
    "        \n",
    "        lower_sen = lower_sen.replace(sent,final_sen)\n",
    "        \n",
    "    \n",
    "       \n",
    "        final_sen = ''\n",
    "        count += 1\n",
    "        \n",
    "    divi1 = ''\n",
    "    divi2 = ''\n"
   ]
  },
  {
   "cell_type": "code",
   "execution_count": 6,
   "metadata": {},
   "outputs": [],
   "source": [
    "cleaned_text = lower_sen.translate(str.maketrans('','',string.punctuation))\n",
    "tokenized_words= word_tokenize(cleaned_text)"
   ]
  },
  {
   "cell_type": "code",
   "execution_count": 7,
   "metadata": {},
   "outputs": [],
   "source": [
    "abbreviations = open('abbrevations.txt',encoding='utf-8').read()\n",
    "abbrev_low = abbreviations.lower()\n",
    "abbrev = abbrev_low.split('\\n')"
   ]
  },
  {
   "cell_type": "code",
   "execution_count": 8,
   "metadata": {},
   "outputs": [],
   "source": [
    "filter_list = []\n",
    "mean_list = []\n",
    "i=0\n",
    "for word in abbrev :\n",
    "    if i==0:\n",
    "        filter_list.append(word)\n",
    "        i=1\n",
    "    elif i==1:\n",
    "        mean_list.append(word)\n",
    "        i=0\n",
    "\n",
    "i=-1\n",
    "for line in mean_list :\n",
    "    test= word_tokenize(line)\n",
    "    i+=1\n",
    "    for word in test :\n",
    "        if lst.stem(word) in stemmed_words_list :\n",
    "            ind = stemmed_words_list.index(lst.stem(word))\n",
    "            mean_list[i] = emotions_list[ind]"
   ]
  },
  {
   "cell_type": "code",
   "execution_count": 13,
   "metadata": {},
   "outputs": [],
   "source": [
    "i=-1\n",
    "for word in tokenized_words:\n",
    "    i+=1\n",
    "    if word in filter_list :\n",
    "        fli = filter_list.index(word)\n",
    "        tokenized_words[i]= mean_list[fli]\n",
    "        \n",
    "        \n",
    "final_words=[]\n",
    "for word in tokenized_words:\n",
    "    if word not in stopwords.words('english'):\n",
    "        final_words.append(word)"
   ]
  },
  {
   "cell_type": "code",
   "execution_count": 10,
   "metadata": {},
   "outputs": [],
   "source": [
    "stemmed_text=[]\n",
    "\n",
    "for words in final_words:\n",
    "    stemmed_text.append(lst.stem(words))"
   ]
  },
  {
   "cell_type": "code",
   "execution_count": 11,
   "metadata": {},
   "outputs": [
    {
     "data": {
      "image/png": "[encoded data removed]",
      "text/plain": [
       "<Figure size 432x288 with 1 Axes>"
      ]
     },
     "metadata": {
      "needs_background": "light"
     },
     "output_type": "display_data"
    }
   ],
   "source": [
    "analyzed_emotions_stem=[]\n",
    "for word in stemmed_text:\n",
    "    if word in stemmed_words_list:\n",
    "        index=stemmed_words_list.index(word)\n",
    "        analyzed_emotions_stem.append(emotions_list[index])\n",
    "        \n",
    "emotion_count_stem=Counter(analyzed_emotions_stem)\n",
    "\n",
    "\n",
    "fig, ax1 = plt.subplots()\n",
    "ax1.bar(emotion_count_stem.keys(), emotion_count_stem.values())\n",
    "fig.autofmt_xdate()\n",
    "plt.show()"
   ]
  },
  {
   "cell_type": "code",
   "execution_count": null,
   "metadata": {},
   "outputs": [],
   "source": []
  }
 ],
 "metadata": {
  "kernelspec": {
   "display_name": "Python 3",
   "language": "python",
   "name": "python3"
  },
  "language_info": {
   "codemirror_mode": {
    "name": "ipython",
    "version": 3
   },
   "file_extension": ".py",
   "mimetype": "text/x-python",
   "name": "python",
   "nbconvert_exporter": "python",
   "pygments_lexer": "ipython3",
   "version": "3.7.4"
  }
 },
 "nbformat": 4,
 "nbformat_minor": 2
}
